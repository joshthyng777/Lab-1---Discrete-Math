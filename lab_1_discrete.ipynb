{
 "cells": [
  {
   "cell_type": "markdown",
   "metadata": {},
   "source": [
    "# Lab 1 - Discrete Math\n"
   ]
  },
  {
   "cell_type": "markdown",
   "metadata": {},
   "source": [
    "` Part 1`\n",
    "\n",
    "Write a function that determines if a positive integer is prime."
   ]
  },
  {
   "cell_type": "code",
   "execution_count": 1,
   "metadata": {},
   "outputs": [
    {
     "name": "stdout",
     "output_type": "stream",
     "text": [
      "False\n"
     ]
    }
   ],
   "source": [
    "def is_prime(positive_int):\n",
    "    # first few lines handle base cases\n",
    "    if positive_int <= 1:\n",
    "        return (f\"{positive_int} is not prime\")\n",
    "    if positive_int <= 3:\n",
    "        return (f\"{positive_int} is prime\")\n",
    "    if positive_int % 2 == 0:\n",
    "        return (f\"{positive_int} is not prime\")\n",
    "\n",
    "    # creates a range of only odd numbers starting at 3, the + 1 is for including the upper limit. Then the 2 is a jump essentially that skips by 2\n",
    "    # which ensures only odd numbers (even numbers cannot be prime). Then just checks if positive_int is divisible by the current number in the loop (i).\n",
    "    for i in range(3, int(positive_int ** 0.5) + 1, 2):\n",
    "        if positive_int % i == 0:\n",
    "            return False\n",
    "\n",
    "    return True\n",
    "\n",
    "\n",
    "print(is_prime(121))\n"
   ]
  },
  {
   "cell_type": "markdown",
   "metadata": {},
   "source": [
    "` Part 2`\n",
    "\n",
    "Write a function that lists all primes less than or equal a given positive integer.\n"
   ]
  },
  {
   "cell_type": "code",
   "execution_count": 2,
   "metadata": {},
   "outputs": [
    {
     "name": "stdout",
     "output_type": "stream",
     "text": [
      "[0, 1, 2, 3, 5, 7, 11, 13, 17, 19, 23, 29, 31, 37]\n"
     ]
    }
   ],
   "source": [
    "def list_of_primes(num_list):\n",
    "    # creates a boolean list of only true values that is the length of num_list\n",
    "    primes = [True] * (num_list + 1)\n",
    "\n",
    "    # this code is similar to that above, besides this time it starts at 2 and does not jump 2 because we are checking all number values not just odds.\n",
    "    for num in range(2, int(num_list**0.5) + 1):\n",
    "        # num in the code below is simple the current index in the list.\n",
    "        if primes[num]:\n",
    "            primes[num*num: num_list+1: num] = [False] * \\\n",
    "                len(primes[num*num: num_list+1: num])\n",
    "\n",
    "    # i used the enumerate function here because it will give us the index of the number and whether or not it is true.\n",
    "    # this will allow us to return prime numbers quickly\n",
    "    return [num for num, is_prime in enumerate(primes) if is_prime]\n",
    "\n",
    "\n",
    "print(list_of_primes(38))\n"
   ]
  },
  {
   "cell_type": "markdown",
   "metadata": {},
   "source": [
    "` Part 3`\n",
    "\n",
    "Use a loop and the function above to determine whether 2p−1\n",
    " is prime for each of the primes not exceeding 100.\n"
   ]
  },
  {
   "cell_type": "code",
   "execution_count": 3,
   "metadata": {},
   "outputs": [
    {
     "name": "stdout",
     "output_type": "stream",
     "text": [
      "2^1 - 1 is prime under 100\n",
      "2^2 - 1 is prime under 100\n",
      "2^3 - 1 is prime under 100\n",
      "2^4 - 1 is not prime\n",
      "2^5 - 1 is prime under 100\n",
      "2^6 - 1 is not prime\n",
      "2^7 - 1 is prime under 100\n",
      "2^8 - 1 is not prime\n",
      "2^10 - 1 is not prime\n",
      "2^11 - 1 is not prime\n",
      "2^12 - 1 is not prime\n",
      "2^13 - 1 is prime under 100\n",
      "2^14 - 1 is not prime\n",
      "2^16 - 1 is not prime\n",
      "2^17 - 1 is prime under 100\n",
      "2^18 - 1 is not prime\n",
      "2^19 - 1 is prime under 100\n",
      "None\n"
     ]
    }
   ],
   "source": [
    "#set max = 100 so the list was unable to generate over 100\n",
    "def prime_list(max = 100):\n",
    "    prime_nums = []\n",
    "    \n",
    "    for i in range(1, max + 1):\n",
    "        if is_prime(i):\n",
    "            prime_nums.append(i)\n",
    "    \n",
    "    for p in prime_nums:\n",
    "        check_num = 2**p - 1\n",
    "        #calls previous prime function to check if number is prime\n",
    "        if is_prime(check_num):\n",
    "            print(f'2^{p} - 1 is prime under 100')\n",
    "        else:\n",
    "            print(f'2^{p} - 1 is not prime')\n",
    "\n",
    "\n",
    "print(prime_list(19))\n"
   ]
  },
  {
   "cell_type": "markdown",
   "metadata": {},
   "source": [
    "` Part 4`\n",
    "\n",
    "Show that n2+n+41\n",
    " is prime for all integers n\n",
    " with 0≤n≤39\n",
    ", but is not prime when n=40\n",
    ". Is there a polymomial in n\n",
    " with integer coefficients and degree greater than zero that always takes on a prime value when n\n",
    " is a positive integer?"
   ]
  },
  {
   "cell_type": "code",
   "execution_count": 4,
   "metadata": {},
   "outputs": [
    {
     "name": "stdout",
     "output_type": "stream",
     "text": [
      "For n = 40, 1681 is not a prime.\n"
     ]
    }
   ],
   "source": [
    "def test_poly():\n",
    "    # Test 0 - 40 (includes 40)\n",
    "    for n in range(0, 41):\n",
    "        value = n ** 2 + n + 41\n",
    "        if not is_prime(value):\n",
    "            print(f\"For n = {n}, {value} is not a prime.\")\n",
    "            return\n",
    "    print(\"The polynomial is prime for all n in the range 0-40.\")\n",
    "    \n",
    "    #n is the value we want to perform the operation for value on.\n",
    "    n = 40\n",
    "    value = n ** 2 + n + 41\n",
    "    if is_prime(value):\n",
    "        print(f\"For n = {n}, {value} is prime.\")\n",
    "    else:\n",
    "        print(f\"For n = {n}, {value} is not prime.\")\n",
    "\n",
    "test_poly()"
   ]
  },
  {
   "cell_type": "markdown",
   "metadata": {},
   "source": [
    "` Part 5`\n",
    "\n",
    "Find 10 different primes each with 100 digits."
   ]
  }
 ],
 "metadata": {
  "kernelspec": {
   "display_name": "Python 3",
   "language": "python",
   "name": "python3"
  },
  "language_info": {
   "codemirror_mode": {
    "name": "ipython",
    "version": 3
   },
   "file_extension": ".py",
   "mimetype": "text/x-python",
   "name": "python",
   "nbconvert_exporter": "python",
   "pygments_lexer": "ipython3",
   "version": "3.9.13"
  },
  "orig_nbformat": 4
 },
 "nbformat": 4,
 "nbformat_minor": 2
}
